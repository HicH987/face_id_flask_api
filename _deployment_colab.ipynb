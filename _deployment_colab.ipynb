{
  "cells": [
    {
      "cell_type": "markdown",
      "metadata": {
        "colab_type": "text",
        "id": "view-in-github"
      },
      "source": [
        "<a href=\"https://colab.research.google.com/github/HicH987/face_id_flask_api/blob/master/_deployment_colab.ipynb\" target=\"_parent\"><img src=\"https://colab.research.google.com/assets/colab-badge.svg\" alt=\"Open In Colab\"/></a>"
      ]
    },
    {
      "attachments": {},
      "cell_type": "markdown",
      "metadata": {},
      "source": [
        "### 1. Clone API repo + Install requirements + Install pyngrok"
      ]
    },
    {
      "cell_type": "code",
      "execution_count": 3,
      "metadata": {
        "colab": {
          "base_uri": "https://localhost:8080/"
        },
        "id": "akY2kKO3NIlp",
        "outputId": "bd266da0-3eef-4b9d-98d2-59f0eab4fcce",
        "vscode": {
          "languageId": "python"
        }
      },
      "outputs": [
        {
          "name": "stdout",
          "output_type": "stream",
          "text": [
            "Cloning into 'face_id_flask_api'...\n",
            "remote: Enumerating objects: 88, done.\u001b[K\n",
            "remote: Counting objects: 100% (88/88), done.\u001b[K\n",
            "remote: Compressing objects: 100% (62/62), done.\u001b[K\n",
            "remote: Total 88 (delta 39), reused 67 (delta 19), pack-reused 0\u001b[K\n",
            "Unpacking objects: 100% (88/88), 21.42 KiB | 1.07 MiB/s, done.\n"
          ]
        }
      ],
      "source": [
        "!git clone https://github.com/HicH987/face_id_flask_api.git\n",
        "!pip install -r face_id_flask_api/requirements.txt\n",
        "!pip install pyngrok"
      ]
    },
    {
      "attachments": {},
      "cell_type": "markdown",
      "metadata": {},
      "source": [
        "### 2. Setup the access link"
      ]
    },
    {
      "cell_type": "code",
      "execution_count": 5,
      "metadata": {
        "colab": {
          "base_uri": "https://localhost:8080/"
        },
        "id": "Xq1Uc1KrNTo-",
        "outputId": "6655440c-cdb4-4589-f3e6-690d309e9fe7",
        "vscode": {
          "languageId": "python"
        }
      },
      "outputs": [
        {
          "name": "stdout",
          "output_type": "stream",
          "text": [
            "access link: http://e660-34-124-194-247.ngrok-free.app\n"
          ]
        }
      ],
      "source": [
        "from pyngrok import ngrok\n",
        "\n",
        "port_no = 5000\n",
        "ngrok.set_auth_token(\"29GHpe6nOniuXaZerF9EbStIHMh_29KL1coC6tVs5tw4dAMLn\")\n",
        "public_url =  ngrok.connect(port_no).public_url\n",
        "\n",
        "print(f'`\\n [PORT]: {port_no}')\n",
        "print(f'`\\n [ACCESS LINK]: {public_url}')"
      ]
    },
    {
      "attachments": {},
      "cell_type": "markdown",
      "metadata": {},
      "source": [
        "### 3. Run the API"
      ]
    },
    {
      "cell_type": "code",
      "execution_count": null,
      "metadata": {
        "colab": {
          "base_uri": "https://localhost:8080/"
        },
        "id": "roRgvMiCNZA6",
        "outputId": "380219d3-ba88-480b-db24-f30203b3b510",
        "vscode": {
          "languageId": "python"
        }
      },
      "outputs": [
        {
          "name": "stdout",
          "output_type": "stream",
          "text": [
            " * Serving Flask app 'app'\n",
            " * Debug mode: on\n",
            "\u001b[31m\u001b[1mWARNING: This is a development server. Do not use it in a production deployment. Use a production WSGI server instead.\u001b[0m\n",
            " * Running on http://127.0.0.1:5000\n",
            "\u001b[33mPress CTRL+C to quit\u001b[0m\n",
            " * Restarting with stat\n",
            " * Debugger is active!\n",
            " * Debugger PIN: 106-395-030\n",
            "127.0.0.1 - - [10/Apr/2023 03:35:56] \"POST /api/face-identification HTTP/1.1\" 200 -\n",
            "127.0.0.1 - - [10/Apr/2023 03:35:56] \"POST /api/face-identification HTTP/1.1\" 200 -\n",
            "127.0.0.1 - - [10/Apr/2023 03:36:02] \"POST /api/face-identification HTTP/1.1\" 200 -\n",
            "127.0.0.1 - - [10/Apr/2023 03:36:21] \"POST /api/face-identification HTTP/1.1\" 200 -\n"
          ]
        }
      ],
      "source": [
        "!cd ./face_id_flask_api/ && python app.py --url {public_url} --port {port_no}"
      ]
    }
  ],
  "metadata": {
    "accelerator": "GPU",
    "colab": {
      "include_colab_link": true,
      "provenance": []
    },
    "kernelspec": {
      "display_name": "Python 3",
      "name": "python3"
    }
  },
  "nbformat": 4,
  "nbformat_minor": 0
}
